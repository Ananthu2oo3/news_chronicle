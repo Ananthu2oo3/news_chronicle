{
 "cells": [
  {
   "cell_type": "code",
   "execution_count": null,
   "metadata": {},
   "outputs": [
    {
     "ename": "",
     "evalue": "",
     "output_type": "error",
     "traceback": [
      "\u001b[1;31mThe kernel failed to start due to the missing module 'pexpect'. Consider installing this module.\n",
      "\u001b[1;31mClick <a href='https://aka.ms/kernelFailuresMissingModule'>here</a> for more info."
     ]
    }
   ],
   "source": [
    "prompt = input(\"Enter keywors: \")\n",
    "for i in range(len(prompt)):\n",
    "    if(i == \" \"):\n",
    "        prompt[i] = \"%20\"\n",
    "        \n",
    "print(prompt)"
   ]
  },
  {
   "cell_type": "code",
   "execution_count": null,
   "metadata": {},
   "outputs": [
    {
     "ename": "",
     "evalue": "",
     "output_type": "error",
     "traceback": [
      "\u001b[1;31mThe kernel failed to start due to the missing module 'pexpect'. Consider installing this module.\n",
      "\u001b[1;31mClick <a href='https://aka.ms/kernelFailuresMissingModule'>here</a> for more info."
     ]
    }
   ],
   "source": [
    "prompt = \"a b c\"\n",
    "prompt = prompt.replace(\" \", \"%20\")\n",
    "print(prompt)"
   ]
  },
  {
   "cell_type": "code",
   "execution_count": null,
   "metadata": {},
   "outputs": [
    {
     "ename": "",
     "evalue": "",
     "output_type": "error",
     "traceback": [
      "\u001b[1;31mThe kernel failed to start due to the missing module 'pexpect'. Consider installing this module.\n",
      "\u001b[1;31mClick <a href='https://aka.ms/kernelFailuresMissingModule'>here</a> for more info."
     ]
    }
   ],
   "source": [
    "link = https://constructafrica.com/news/burundi-makes-headway-infrastructure-projects\n",
    "lin"
   ]
  },
  {
   "cell_type": "code",
   "execution_count": 3,
   "metadata": {},
   "outputs": [],
   "source": [
    "import csv"
   ]
  },
  {
   "cell_type": "code",
   "execution_count": 1,
   "metadata": {},
   "outputs": [
    {
     "name": "stdout",
     "output_type": "stream",
     "text": [
      "Prompt: democratic republic congo\n"
     ]
    },
    {
     "data": {
      "text/plain": [
       "'democratic%20republic%20congo'"
      ]
     },
     "execution_count": 1,
     "metadata": {},
     "output_type": "execute_result"
    }
   ],
   "source": [
    "prompt = input(\"Prompt: \")\n",
    "key = prompt.replace(\" \", \"%20\")\n",
    "key"
   ]
  },
  {
   "cell_type": "code",
   "execution_count": 7,
   "metadata": {},
   "outputs": [
    {
     "ename": "KeyError",
     "evalue": "'page'",
     "output_type": "error",
     "traceback": [
      "\u001b[0;31m---------------------------------------------------------------------------\u001b[0m",
      "\u001b[0;31mKeyError\u001b[0m                                  Traceback (most recent call last)",
      "Cell \u001b[0;32mIn[7], line 9\u001b[0m\n\u001b[1;32m      7\u001b[0m xpath       \u001b[38;5;241m=\u001b[39m row[\u001b[38;5;124m'\u001b[39m\u001b[38;5;124mxpath\u001b[39m\u001b[38;5;124m'\u001b[39m]\n\u001b[1;32m      8\u001b[0m base_url    \u001b[38;5;241m=\u001b[39m row[\u001b[38;5;124m'\u001b[39m\u001b[38;5;124mbase_url\u001b[39m\u001b[38;5;124m'\u001b[39m]\n\u001b[0;32m----> 9\u001b[0m url         \u001b[38;5;241m=\u001b[39m \u001b[38;5;124mf\u001b[39m\u001b[38;5;124m\"\u001b[39m\u001b[38;5;132;01m{\u001b[39;00mbase_url\u001b[38;5;241m.\u001b[39mformat(key\u001b[38;5;250m \u001b[39m\u001b[38;5;241m=\u001b[39m\u001b[38;5;250m \u001b[39mkey)\u001b[38;5;132;01m}\u001b[39;00m\u001b[38;5;124m\"\u001b[39m\n\u001b[1;32m     10\u001b[0m \u001b[38;5;28mprint\u001b[39m(url)\n",
      "\u001b[0;31mKeyError\u001b[0m: 'page'"
     ]
    }
   ],
   "source": [
    "with open('source.csv', 'r') as csv_file:\n",
    "        \n",
    "        csv_reader = csv.DictReader(csv_file)\n",
    "\n",
    "        for row in csv_reader:\n",
    "            \n",
    "            base_url    = row['base_url']\n",
    "            xpath       = row['xpath']\n",
    "            values      = {'key': row['key'], 'page': row['page']}\n",
    "            url         = f\"{base_url.format(key = key, page='1')}\"\n",
    "            print(url)\n",
    "    "
   ]
  },
  {
   "cell_type": "code",
   "execution_count": null,
   "metadata": {},
   "outputs": [
    {
     "ename": "",
     "evalue": "",
     "output_type": "error",
     "traceback": [
      "\u001b[1;31mThe kernel failed to start due to the missing module 'pexpect'. Consider installing this module.\n",
      "\u001b[1;31mClick <a href='https://aka.ms/kernelFailuresMissingModule'>here</a> for more info."
     ]
    }
   ],
   "source": [
    "source = pd.read_csv('source.csv')"
   ]
  },
  {
   "cell_type": "code",
   "execution_count": 12,
   "metadata": {},
   "outputs": [
    {
     "name": "stdout",
     "output_type": "stream",
     "text": [
      "Collecting selenium\n",
      "  Using cached selenium-4.15.2-py3-none-any.whl (10.2 MB)\n",
      "Collecting trio-websocket~=0.9\n",
      "  Downloading trio_websocket-0.11.1-py3-none-any.whl (17 kB)\n",
      "Collecting trio~=0.17\n",
      "  Downloading trio-0.23.1-py3-none-any.whl (448 kB)\n",
      "\u001b[K     |████████████████████████████████| 448 kB 1.7 MB/s eta 0:00:01\n",
      "\u001b[?25hRequirement already satisfied: certifi>=2021.10.8 in /home/ananthu/miniconda3/lib/python3.9/site-packages (from selenium) (2021.10.8)\n",
      "Requirement already satisfied: urllib3[socks]<3,>=1.26 in /home/ananthu/miniconda3/lib/python3.9/site-packages (from selenium) (1.26.8)\n",
      "Requirement already satisfied: idna in /home/ananthu/miniconda3/lib/python3.9/site-packages (from trio~=0.17->selenium) (3.3)\n",
      "Collecting sortedcontainers\n",
      "  Using cached sortedcontainers-2.4.0-py2.py3-none-any.whl (29 kB)\n",
      "Requirement already satisfied: sniffio>=1.3.0 in /home/ananthu/miniconda3/lib/python3.9/site-packages (from trio~=0.17->selenium) (1.3.0)\n",
      "Collecting exceptiongroup>=1.0.0rc9\n",
      "  Downloading exceptiongroup-1.2.0-py3-none-any.whl (16 kB)\n",
      "Requirement already satisfied: attrs>=20.1.0 in /home/ananthu/miniconda3/lib/python3.9/site-packages (from trio~=0.17->selenium) (22.1.0)\n",
      "Collecting outcome\n",
      "  Downloading outcome-1.3.0.post0-py2.py3-none-any.whl (10 kB)\n",
      "Collecting wsproto>=0.14\n",
      "  Using cached wsproto-1.2.0-py3-none-any.whl (24 kB)\n",
      "Requirement already satisfied: PySocks!=1.5.7,<2.0,>=1.5.6 in /home/ananthu/miniconda3/lib/python3.9/site-packages (from urllib3[socks]<3,>=1.26->selenium) (1.7.1)\n",
      "Collecting h11<1,>=0.9.0\n",
      "  Using cached h11-0.14.0-py3-none-any.whl (58 kB)\n",
      "Installing collected packages: sortedcontainers, outcome, h11, exceptiongroup, wsproto, trio, trio-websocket, selenium\n",
      "Successfully installed exceptiongroup-1.2.0 h11-0.14.0 outcome-1.3.0.post0 selenium-4.15.2 sortedcontainers-2.4.0 trio-0.23.1 trio-websocket-0.11.1 wsproto-1.2.0\n",
      "Note: you may need to restart the kernel to use updated packages.\n"
     ]
    }
   ],
   "source": [
    "pip install selenium"
   ]
  },
  {
   "cell_type": "code",
   "execution_count": 3,
   "metadata": {},
   "outputs": [],
   "source": [
    "import pandas as pd"
   ]
  },
  {
   "cell_type": "code",
   "execution_count": 4,
   "metadata": {},
   "outputs": [
    {
     "data": {
      "text/html": [
       "<div>\n",
       "<style scoped>\n",
       "    .dataframe tbody tr th:only-of-type {\n",
       "        vertical-align: middle;\n",
       "    }\n",
       "\n",
       "    .dataframe tbody tr th {\n",
       "        vertical-align: top;\n",
       "    }\n",
       "\n",
       "    .dataframe thead th {\n",
       "        text-align: right;\n",
       "    }\n",
       "</style>\n",
       "<table border=\"1\" class=\"dataframe\">\n",
       "  <thead>\n",
       "    <tr style=\"text-align: right;\">\n",
       "      <th></th>\n",
       "      <th>home_page</th>\n",
       "      <th>base_url</th>\n",
       "      <th>xpath</th>\n",
       "    </tr>\n",
       "  </thead>\n",
       "  <tbody>\n",
       "    <tr>\n",
       "      <th>0</th>\n",
       "      <td>https://www.constructafrica.com/</td>\n",
       "      <td>https://constructafrica.com/search/node?keys={...</td>\n",
       "      <td>//*[@id=\"block-mainpagecontent\"]/div/ol/li[{}]...</td>\n",
       "    </tr>\n",
       "    <tr>\n",
       "      <th>1</th>\n",
       "      <td>https://www.worldhighways.com/</td>\n",
       "      <td>https://www.worldhighways.com/search?search_ap...</td>\n",
       "      <td>//*[@id=\"block-mdl-content\"]/div/div/div[{}]/d...</td>\n",
       "    </tr>\n",
       "    <tr>\n",
       "      <th>2</th>\n",
       "      <td>https://gambetanews.com/</td>\n",
       "      <td>https://gambetanews.com/page/{page}/?s={key}</td>\n",
       "      <td>/html/body/div[1]/div/div[2]/section/main/arti...</td>\n",
       "    </tr>\n",
       "  </tbody>\n",
       "</table>\n",
       "</div>"
      ],
      "text/plain": [
       "                          home_page  \\\n",
       "0  https://www.constructafrica.com/   \n",
       "1   https://www.worldhighways.com/    \n",
       "2          https://gambetanews.com/   \n",
       "\n",
       "                                            base_url  \\\n",
       "0  https://constructafrica.com/search/node?keys={...   \n",
       "1  https://www.worldhighways.com/search?search_ap...   \n",
       "2       https://gambetanews.com/page/{page}/?s={key}   \n",
       "\n",
       "                                               xpath  \n",
       "0  //*[@id=\"block-mainpagecontent\"]/div/ol/li[{}]...  \n",
       "1  //*[@id=\"block-mdl-content\"]/div/div/div[{}]/d...  \n",
       "2  /html/body/div[1]/div/div[2]/section/main/arti...  "
      ]
     },
     "execution_count": 4,
     "metadata": {},
     "output_type": "execute_result"
    }
   ],
   "source": [
    "df = pd.read_csv('source.csv')\n",
    "df"
   ]
  },
  {
   "cell_type": "code",
   "execution_count": 7,
   "metadata": {},
   "outputs": [
    {
     "data": {
      "text/plain": [
       "3"
      ]
     },
     "execution_count": 7,
     "metadata": {},
     "output_type": "execute_result"
    }
   ],
   "source": [
    "row = df.shape[0]\n",
    "row"
   ]
  },
  {
   "cell_type": "code",
   "execution_count": 8,
   "metadata": {},
   "outputs": [],
   "source": [
    "key = 'Democratic+Republic+Congo'"
   ]
  },
  {
   "cell_type": "code",
   "execution_count": 10,
   "metadata": {},
   "outputs": [
    {
     "name": "stdout",
     "output_type": "stream",
     "text": [
      "//*[@id=\"block-mainpagecontent\"]/div/ol/li[0]/h3/a\n",
      "//*[@id=\"block-mdl-content\"]/div/div/div[1]/div[2]/span/div/div[1]/a\n",
      "/html/body/div[1]/div/div[2]/section/main/article[2]/header/h1/a\n"
     ]
    }
   ],
   "source": [
    "for i in range(row):\n",
    "    \n",
    "    base_url = df.base_url[i]\n",
    "    xpath    = df.xpath[i]\n",
    "    p = i+1\n",
    "    url = f\"{base_url.format(key= key, page=p)}\"\n",
    "    xp = xpath.format(i)\n",
    "    print( xp)"
   ]
  },
  {
   "cell_type": "code",
   "execution_count": 20,
   "metadata": {},
   "outputs": [],
   "source": [
    "from selenium import webdriver\n",
    "from selenium.webdriver.common.by import By\n",
    "from selenium.webdriver.support.ui import WebDriverWait\n",
    "from selenium.webdriver.support import expected_conditions as EC"
   ]
  },
  {
   "cell_type": "code",
   "execution_count": 30,
   "metadata": {},
   "outputs": [
    {
     "data": {
      "text/plain": [
       "'Staff Writer - 05/12/2021 - 15:48 - 0 comments'"
      ]
     },
     "execution_count": 30,
     "metadata": {},
     "output_type": "execute_result"
    }
   ],
   "source": [
    "driver  = webdriver.Chrome()\n",
    "\n",
    "\n",
    "driver.get(\"https://constructafrica.com/search/node?keys=Democratic%20Republic%20Congo&page=0%2C0%2C0%2C0%2C0%2C0%2C0%2C0\")\n",
    "date = driver.find_element(By.XPATH,'//*[@id=\"block-mainpagecontent\"]/div/ol/li[{}]/p[2]/em').text\n",
    "\n",
    "driver.quit()\n",
    "date"
   ]
  },
  {
   "cell_type": "code",
   "execution_count": 29,
   "metadata": {},
   "outputs": [
    {
     "ename": "WebDriverException",
     "evalue": "Message: unknown error: net::ERR_NAME_NOT_RESOLVED\n  (Session info: chrome=109.0.5414.74)\nStacktrace:\n#0 0x55c7f8a90303 <unknown>\n#1 0x55c7f8864d37 <unknown>\n#2 0x55c7f885cd85 <unknown>\n#3 0x55c7f884ff87 <unknown>\n#4 0x55c7f88514e9 <unknown>\n#5 0x55c7f88502fe <unknown>\n#6 0x55c7f884f432 <unknown>\n#7 0x55c7f884f285 <unknown>\n#8 0x55c7f884dc77 <unknown>\n#9 0x55c7f884e2a4 <unknown>\n#10 0x55c7f8866c48 <unknown>\n#11 0x55c7f88d9f15 <unknown>\n#12 0x55c7f88c1982 <unknown>\n#13 0x55c7f88d988c <unknown>\n#14 0x55c7f88c1753 <unknown>\n#15 0x55c7f8894a14 <unknown>\n#16 0x55c7f8895b7e <unknown>\n#17 0x55c7f8adf32e <unknown>\n#18 0x55c7f8ae2c0e <unknown>\n#19 0x55c7f8ac5610 <unknown>\n#20 0x55c7f8ae3c23 <unknown>\n#21 0x55c7f8ab7545 <unknown>\n#22 0x55c7f8b046a8 <unknown>\n#23 0x55c7f8b04836 <unknown>\n#24 0x55c7f8b1fd13 <unknown>\n#25 0x7fd13b33e609 start_thread\n",
     "output_type": "error",
     "traceback": [
      "\u001b[0;31m---------------------------------------------------------------------------\u001b[0m",
      "\u001b[0;31mWebDriverException\u001b[0m                        Traceback (most recent call last)",
      "\u001b[1;32m/home/ananthu/petraoil_bot/test.ipynb Cell 16\u001b[0m line \u001b[0;36m1\n\u001b[1;32m      <a href='vscode-notebook-cell:/home/ananthu/petraoil_bot/test.ipynb#X21sZmlsZQ%3D%3D?line=6'>7</a>\u001b[0m driver  \u001b[39m=\u001b[39m webdriver\u001b[39m.\u001b[39mChrome()\n\u001b[1;32m      <a href='vscode-notebook-cell:/home/ananthu/petraoil_bot/test.ipynb#X21sZmlsZQ%3D%3D?line=7'>8</a>\u001b[0m url \u001b[39m=\u001b[39m \u001b[39m\"\u001b[39m\u001b[39mhttps://www.worldhighways.com/search?search_api_fulltext=Democratic+Republic+Congo\u001b[39m\u001b[39m\"\u001b[39m\n\u001b[0;32m---> <a href='vscode-notebook-cell:/home/ananthu/petraoil_bot/test.ipynb#X21sZmlsZQ%3D%3D?line=9'>10</a>\u001b[0m driver\u001b[39m.\u001b[39;49mget(url)\n\u001b[1;32m     <a href='vscode-notebook-cell:/home/ananthu/petraoil_bot/test.ipynb#X21sZmlsZQ%3D%3D?line=11'>12</a>\u001b[0m pagination_elements \u001b[39m=\u001b[39m WebDriverWait(driver, \u001b[39m12\u001b[39m)\u001b[39m.\u001b[39muntil(\n\u001b[1;32m     <a href='vscode-notebook-cell:/home/ananthu/petraoil_bot/test.ipynb#X21sZmlsZQ%3D%3D?line=12'>13</a>\u001b[0m     \u001b[39m# EC.presence_of_all_elements_located((By.XPATH, '//*[@id=\"block-mainpagecontent\"]/div/nav/ul/li[11]/a'))\u001b[39;00m\n\u001b[1;32m     <a href='vscode-notebook-cell:/home/ananthu/petraoil_bot/test.ipynb#X21sZmlsZQ%3D%3D?line=13'>14</a>\u001b[0m     EC\u001b[39m.\u001b[39mpresence_of_all_elements_located((By\u001b[39m.\u001b[39mXPATH, \u001b[39m'\u001b[39m\u001b[39m//*[@id=\u001b[39m\u001b[39m\"\u001b[39m\u001b[39mblock-mdl-content\u001b[39m\u001b[39m\"\u001b[39m\u001b[39m]/div/div/nav/ul/li\u001b[39m\u001b[39m'\u001b[39m))\n\u001b[1;32m     <a href='vscode-notebook-cell:/home/ananthu/petraoil_bot/test.ipynb#X21sZmlsZQ%3D%3D?line=14'>15</a>\u001b[0m \n\u001b[1;32m     <a href='vscode-notebook-cell:/home/ananthu/petraoil_bot/test.ipynb#X21sZmlsZQ%3D%3D?line=15'>16</a>\u001b[0m )\n\u001b[1;32m     <a href='vscode-notebook-cell:/home/ananthu/petraoil_bot/test.ipynb#X21sZmlsZQ%3D%3D?line=17'>18</a>\u001b[0m driver\u001b[39m.\u001b[39mquit()\n",
      "File \u001b[0;32m~/miniconda3/lib/python3.9/site-packages/selenium/webdriver/remote/webdriver.py:356\u001b[0m, in \u001b[0;36mWebDriver.get\u001b[0;34m(self, url)\u001b[0m\n\u001b[1;32m    354\u001b[0m \u001b[39mdef\u001b[39;00m \u001b[39mget\u001b[39m(\u001b[39mself\u001b[39m, url: \u001b[39mstr\u001b[39m) \u001b[39m-\u001b[39m\u001b[39m>\u001b[39m \u001b[39mNone\u001b[39;00m:\n\u001b[1;32m    355\u001b[0m     \u001b[39m\"\"\"Loads a web page in the current browser session.\"\"\"\u001b[39;00m\n\u001b[0;32m--> 356\u001b[0m     \u001b[39mself\u001b[39;49m\u001b[39m.\u001b[39;49mexecute(Command\u001b[39m.\u001b[39;49mGET, {\u001b[39m\"\u001b[39;49m\u001b[39murl\u001b[39;49m\u001b[39m\"\u001b[39;49m: url})\n",
      "File \u001b[0;32m~/miniconda3/lib/python3.9/site-packages/selenium/webdriver/remote/webdriver.py:347\u001b[0m, in \u001b[0;36mWebDriver.execute\u001b[0;34m(self, driver_command, params)\u001b[0m\n\u001b[1;32m    345\u001b[0m response \u001b[39m=\u001b[39m \u001b[39mself\u001b[39m\u001b[39m.\u001b[39mcommand_executor\u001b[39m.\u001b[39mexecute(driver_command, params)\n\u001b[1;32m    346\u001b[0m \u001b[39mif\u001b[39;00m response:\n\u001b[0;32m--> 347\u001b[0m     \u001b[39mself\u001b[39;49m\u001b[39m.\u001b[39;49merror_handler\u001b[39m.\u001b[39;49mcheck_response(response)\n\u001b[1;32m    348\u001b[0m     response[\u001b[39m\"\u001b[39m\u001b[39mvalue\u001b[39m\u001b[39m\"\u001b[39m] \u001b[39m=\u001b[39m \u001b[39mself\u001b[39m\u001b[39m.\u001b[39m_unwrap_value(response\u001b[39m.\u001b[39mget(\u001b[39m\"\u001b[39m\u001b[39mvalue\u001b[39m\u001b[39m\"\u001b[39m, \u001b[39mNone\u001b[39;00m))\n\u001b[1;32m    349\u001b[0m     \u001b[39mreturn\u001b[39;00m response\n",
      "File \u001b[0;32m~/miniconda3/lib/python3.9/site-packages/selenium/webdriver/remote/errorhandler.py:229\u001b[0m, in \u001b[0;36mErrorHandler.check_response\u001b[0;34m(self, response)\u001b[0m\n\u001b[1;32m    227\u001b[0m         alert_text \u001b[39m=\u001b[39m value[\u001b[39m\"\u001b[39m\u001b[39malert\u001b[39m\u001b[39m\"\u001b[39m]\u001b[39m.\u001b[39mget(\u001b[39m\"\u001b[39m\u001b[39mtext\u001b[39m\u001b[39m\"\u001b[39m)\n\u001b[1;32m    228\u001b[0m     \u001b[39mraise\u001b[39;00m exception_class(message, screen, stacktrace, alert_text)  \u001b[39m# type: ignore[call-arg]  # mypy is not smart enough here\u001b[39;00m\n\u001b[0;32m--> 229\u001b[0m \u001b[39mraise\u001b[39;00m exception_class(message, screen, stacktrace)\n",
      "\u001b[0;31mWebDriverException\u001b[0m: Message: unknown error: net::ERR_NAME_NOT_RESOLVED\n  (Session info: chrome=109.0.5414.74)\nStacktrace:\n#0 0x55c7f8a90303 <unknown>\n#1 0x55c7f8864d37 <unknown>\n#2 0x55c7f885cd85 <unknown>\n#3 0x55c7f884ff87 <unknown>\n#4 0x55c7f88514e9 <unknown>\n#5 0x55c7f88502fe <unknown>\n#6 0x55c7f884f432 <unknown>\n#7 0x55c7f884f285 <unknown>\n#8 0x55c7f884dc77 <unknown>\n#9 0x55c7f884e2a4 <unknown>\n#10 0x55c7f8866c48 <unknown>\n#11 0x55c7f88d9f15 <unknown>\n#12 0x55c7f88c1982 <unknown>\n#13 0x55c7f88d988c <unknown>\n#14 0x55c7f88c1753 <unknown>\n#15 0x55c7f8894a14 <unknown>\n#16 0x55c7f8895b7e <unknown>\n#17 0x55c7f8adf32e <unknown>\n#18 0x55c7f8ae2c0e <unknown>\n#19 0x55c7f8ac5610 <unknown>\n#20 0x55c7f8ae3c23 <unknown>\n#21 0x55c7f8ab7545 <unknown>\n#22 0x55c7f8b046a8 <unknown>\n#23 0x55c7f8b04836 <unknown>\n#24 0x55c7f8b1fd13 <unknown>\n#25 0x7fd13b33e609 start_thread\n"
     ]
    }
   ],
   "source": [
    "from selenium import webdriver\n",
    "from selenium.webdriver.common.by import By\n",
    "from selenium.webdriver.support.ui import WebDriverWait\n",
    "from selenium.webdriver.support import expected_conditions as EC\n",
    "\n",
    "\n",
    "driver  = webdriver.Chrome()\n",
    "url = \"https://www.worldhighways.com/search?search_api_fulltext=Democratic+Republic+Congo\"\n",
    "\n",
    "driver.get(url)\n",
    "\n",
    "pagination_elements = WebDriverWait(driver, 12).until(\n",
    "    # EC.presence_of_all_elements_located((By.XPATH, '//*[@id=\"block-mainpagecontent\"]/div/nav/ul/li[11]/a'))\n",
    "    EC.presence_of_all_elements_located((By.XPATH, '//*[@id=\"block-mdl-content\"]/div/div/nav/ul/li'))\n",
    "\n",
    ")\n",
    "\n",
    "driver.quit()\n",
    "\n",
    "\n",
    "total_pages = len(pagination_elements)\n",
    "total_pages\n",
    "\n"
   ]
  },
  {
   "cell_type": "code",
   "execution_count": null,
   "metadata": {},
   "outputs": [],
   "source": []
  }
 ],
 "metadata": {
  "kernelspec": {
   "display_name": "Python 3 (ipykernel)",
   "language": "python",
   "name": "python3"
  },
  "language_info": {
   "codemirror_mode": {
    "name": "ipython",
    "version": 3
   },
   "file_extension": ".py",
   "mimetype": "text/x-python",
   "name": "python",
   "nbconvert_exporter": "python",
   "pygments_lexer": "ipython3",
   "version": "3.9.12"
  }
 },
 "nbformat": 4,
 "nbformat_minor": 2
}
