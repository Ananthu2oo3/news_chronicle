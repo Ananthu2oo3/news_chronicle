{
 "cells": [
  {
   "cell_type": "code",
   "execution_count": null,
   "metadata": {},
   "outputs": [
    {
     "ename": "",
     "evalue": "",
     "output_type": "error",
     "traceback": [
      "\u001b[1;31mThe kernel failed to start due to the missing module 'pexpect'. Consider installing this module.\n",
      "\u001b[1;31mClick <a href='https://aka.ms/kernelFailuresMissingModule'>here</a> for more info."
     ]
    }
   ],
   "source": [
    "prompt = input(\"Enter keywors: \")\n",
    "for i in range(len(prompt)):\n",
    "    if(i == \" \"):\n",
    "        prompt[i] = \"%20\"\n",
    "        \n",
    "print(prompt)"
   ]
  },
  {
   "cell_type": "code",
   "execution_count": null,
   "metadata": {},
   "outputs": [
    {
     "ename": "",
     "evalue": "",
     "output_type": "error",
     "traceback": [
      "\u001b[1;31mThe kernel failed to start due to the missing module 'pexpect'. Consider installing this module.\n",
      "\u001b[1;31mClick <a href='https://aka.ms/kernelFailuresMissingModule'>here</a> for more info."
     ]
    }
   ],
   "source": [
    "prompt = \"a b c\"\n",
    "prompt = prompt.replace(\" \", \"%20\")\n",
    "print(prompt)"
   ]
  },
  {
   "cell_type": "code",
   "execution_count": null,
   "metadata": {},
   "outputs": [
    {
     "ename": "",
     "evalue": "",
     "output_type": "error",
     "traceback": [
      "\u001b[1;31mThe kernel failed to start due to the missing module 'pexpect'. Consider installing this module.\n",
      "\u001b[1;31mClick <a href='https://aka.ms/kernelFailuresMissingModule'>here</a> for more info."
     ]
    }
   ],
   "source": [
    "link = https://constructafrica.com/news/burundi-makes-headway-infrastructure-projects\n",
    "lin"
   ]
  },
  {
   "cell_type": "code",
   "execution_count": 3,
   "metadata": {},
   "outputs": [],
   "source": [
    "import csv"
   ]
  },
  {
   "cell_type": "code",
   "execution_count": 1,
   "metadata": {},
   "outputs": [
    {
     "name": "stdout",
     "output_type": "stream",
     "text": [
      "Prompt: democratic republic congo\n"
     ]
    },
    {
     "data": {
      "text/plain": [
       "'democratic%20republic%20congo'"
      ]
     },
     "execution_count": 1,
     "metadata": {},
     "output_type": "execute_result"
    }
   ],
   "source": [
    "prompt = input(\"Prompt: \")\n",
    "key = prompt.replace(\" \", \"%20\")\n",
    "key"
   ]
  },
  {
   "cell_type": "code",
   "execution_count": 7,
   "metadata": {},
   "outputs": [
    {
     "ename": "KeyError",
     "evalue": "'page'",
     "output_type": "error",
     "traceback": [
      "\u001b[0;31m---------------------------------------------------------------------------\u001b[0m",
      "\u001b[0;31mKeyError\u001b[0m                                  Traceback (most recent call last)",
      "Cell \u001b[0;32mIn[7], line 9\u001b[0m\n\u001b[1;32m      7\u001b[0m xpath       \u001b[38;5;241m=\u001b[39m row[\u001b[38;5;124m'\u001b[39m\u001b[38;5;124mxpath\u001b[39m\u001b[38;5;124m'\u001b[39m]\n\u001b[1;32m      8\u001b[0m base_url    \u001b[38;5;241m=\u001b[39m row[\u001b[38;5;124m'\u001b[39m\u001b[38;5;124mbase_url\u001b[39m\u001b[38;5;124m'\u001b[39m]\n\u001b[0;32m----> 9\u001b[0m url         \u001b[38;5;241m=\u001b[39m \u001b[38;5;124mf\u001b[39m\u001b[38;5;124m\"\u001b[39m\u001b[38;5;132;01m{\u001b[39;00mbase_url\u001b[38;5;241m.\u001b[39mformat(key\u001b[38;5;250m \u001b[39m\u001b[38;5;241m=\u001b[39m\u001b[38;5;250m \u001b[39mkey)\u001b[38;5;132;01m}\u001b[39;00m\u001b[38;5;124m\"\u001b[39m\n\u001b[1;32m     10\u001b[0m \u001b[38;5;28mprint\u001b[39m(url)\n",
      "\u001b[0;31mKeyError\u001b[0m: 'page'"
     ]
    }
   ],
   "source": [
    "with open('source.csv', 'r') as csv_file:\n",
    "        \n",
    "        csv_reader = csv.DictReader(csv_file)\n",
    "\n",
    "        for row in csv_reader:\n",
    "            \n",
    "            base_url    = row['base_url']\n",
    "            xpath       = row['xpath']\n",
    "            values      = {'key': row['key'], 'page': row['page']}\n",
    "            url         = f\"{base_url.format(key = key, page='1')}\"\n",
    "            print(url)\n",
    "    "
   ]
  },
  {
   "cell_type": "code",
   "execution_count": null,
   "metadata": {},
   "outputs": [
    {
     "ename": "",
     "evalue": "",
     "output_type": "error",
     "traceback": [
      "\u001b[1;31mThe kernel failed to start due to the missing module 'pexpect'. Consider installing this module.\n",
      "\u001b[1;31mClick <a href='https://aka.ms/kernelFailuresMissingModule'>here</a> for more info."
     ]
    }
   ],
   "source": [
    "source = pd.read_csv('source.csv')"
   ]
  },
  {
   "cell_type": "code",
   "execution_count": 1,
   "metadata": {},
   "outputs": [],
   "source": [
    "import pandas as pd"
   ]
  },
  {
   "cell_type": "code",
   "execution_count": 3,
   "metadata": {},
   "outputs": [
    {
     "data": {
      "text/html": [
       "<div>\n",
       "<style scoped>\n",
       "    .dataframe tbody tr th:only-of-type {\n",
       "        vertical-align: middle;\n",
       "    }\n",
       "\n",
       "    .dataframe tbody tr th {\n",
       "        vertical-align: top;\n",
       "    }\n",
       "\n",
       "    .dataframe thead th {\n",
       "        text-align: right;\n",
       "    }\n",
       "</style>\n",
       "<table border=\"1\" class=\"dataframe\">\n",
       "  <thead>\n",
       "    <tr style=\"text-align: right;\">\n",
       "      <th></th>\n",
       "      <th>home_page</th>\n",
       "      <th>base_url</th>\n",
       "      <th>xpath</th>\n",
       "    </tr>\n",
       "  </thead>\n",
       "  <tbody>\n",
       "    <tr>\n",
       "      <th>0</th>\n",
       "      <td>https://www.constructafrica.com/</td>\n",
       "      <td>https://constructafrica.com/search/node?keys={...</td>\n",
       "      <td>//*[@id=\"block-mainpagecontent\"]/div/ol/li[{}]...</td>\n",
       "    </tr>\n",
       "    <tr>\n",
       "      <th>1</th>\n",
       "      <td>https://www.worldhighways.com/</td>\n",
       "      <td>https://www.worldhighways.com/search?search_ap...</td>\n",
       "      <td>//*[@id=\"block-mdl-content\"]/div/div/div[{}]/d...</td>\n",
       "    </tr>\n",
       "    <tr>\n",
       "      <th>2</th>\n",
       "      <td>https://gambetanews.com/</td>\n",
       "      <td>https://gambetanews.com/page/{page}/?s={key}</td>\n",
       "      <td>/html/body/div[1]/div/div[2]/section/main/arti...</td>\n",
       "    </tr>\n",
       "  </tbody>\n",
       "</table>\n",
       "</div>"
      ],
      "text/plain": [
       "                          home_page  \\\n",
       "0  https://www.constructafrica.com/   \n",
       "1   https://www.worldhighways.com/    \n",
       "2          https://gambetanews.com/   \n",
       "\n",
       "                                            base_url  \\\n",
       "0  https://constructafrica.com/search/node?keys={...   \n",
       "1  https://www.worldhighways.com/search?search_ap...   \n",
       "2       https://gambetanews.com/page/{page}/?s={key}   \n",
       "\n",
       "                                               xpath  \n",
       "0  //*[@id=\"block-mainpagecontent\"]/div/ol/li[{}]...  \n",
       "1  //*[@id=\"block-mdl-content\"]/div/div/div[{}]/d...  \n",
       "2  /html/body/div[1]/div/div[2]/section/main/arti...  "
      ]
     },
     "execution_count": 3,
     "metadata": {},
     "output_type": "execute_result"
    }
   ],
   "source": [
    "df = pd.read_csv('source.csv')\n",
    "df"
   ]
  },
  {
   "cell_type": "code",
   "execution_count": 22,
   "metadata": {},
   "outputs": [
    {
     "data": {
      "text/plain": [
       "3"
      ]
     },
     "execution_count": 22,
     "metadata": {},
     "output_type": "execute_result"
    }
   ],
   "source": [
    "row = df.shape[0]\n",
    "row "
   ]
  },
  {
   "cell_type": "code",
   "execution_count": 23,
   "metadata": {},
   "outputs": [],
   "source": [
    "key = 'Democratic+Republic+Congo'"
   ]
  },
  {
   "cell_type": "code",
   "execution_count": 24,
   "metadata": {},
   "outputs": [
    {
     "name": "stdout",
     "output_type": "stream",
     "text": [
      "https://constructafrica.com/search/node?keys=Democratic+Republic+Congo&page=1%2C0%2C0 //*[@id=\"block-mainpagecontent\"]/div/ol/li[0]/h3/a\n",
      "https://www.worldhighways.com/search?search_api_fulltext=Democratic+Republic+Congo&page=2 //*[@id=\"block-mdl-content\"]/div/div/div[1]/div[2]/span/div/div[1]/a\n",
      "https://gambetanews.com/page/3/?s=Democratic+Republic+Congo /html/body/div[1]/div/div[2]/section/main/article[2]/header/h1/a\n"
     ]
    }
   ],
   "source": [
    "for i in range(row):\n",
    "    \n",
    "    base_url = df.base_url[i]\n",
    "    xpath    = df.xpath[i]\n",
    "    p = i+1\n",
    "    url = f\"{base_url.format(key= key, page=p)}\"\n",
    "    xp = xpath.format(i)\n",
    "    print(url, xp)"
   ]
  },
  {
   "cell_type": "code",
   "execution_count": null,
   "metadata": {},
   "outputs": [],
   "source": []
  }
 ],
 "metadata": {
  "kernelspec": {
   "display_name": "Python 3 (ipykernel)",
   "language": "python",
   "name": "python3"
  },
  "language_info": {
   "codemirror_mode": {
    "name": "ipython",
    "version": 3
   },
   "file_extension": ".py",
   "mimetype": "text/x-python",
   "name": "python",
   "nbconvert_exporter": "python",
   "pygments_lexer": "ipython3",
   "version": "3.8.10"
  }
 },
 "nbformat": 4,
 "nbformat_minor": 2
}
